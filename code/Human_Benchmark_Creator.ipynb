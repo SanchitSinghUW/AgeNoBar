{
  "nbformat": 4,
  "nbformat_minor": 0,
  "metadata": {
    "colab": {
      "name": "Human_Benchmark_Creator.ipynb",
      "provenance": []
    },
    "kernelspec": {
      "name": "python3",
      "display_name": "Python 3"
    },
    "language_info": {
      "name": "python"
    }
  },
  "cells": [
    {
      "cell_type": "code",
      "metadata": {
        "colab": {
          "base_uri": "https://localhost:8080/"
        },
        "id": "zOQh7u3WzVZq",
        "outputId": "fdd53e80-d2a9-4d7b-f944-11a75dfbe5bf"
      },
      "source": [
        "from google.colab import drive\n",
        "drive.mount('/content/drive')"
      ],
      "execution_count": null,
      "outputs": [
        {
          "output_type": "stream",
          "text": [
            "Drive already mounted at /content/drive; to attempt to forcibly remount, call drive.mount(\"/content/drive\", force_remount=True).\n"
          ],
          "name": "stdout"
        }
      ]
    },
    {
      "cell_type": "code",
      "metadata": {
        "id": "Fp7e4HjX0kFP"
      },
      "source": [
        "import random\n",
        "import os"
      ],
      "execution_count": null,
      "outputs": []
    },
    {
      "cell_type": "code",
      "metadata": {
        "id": "sCZRRtUG0pDo"
      },
      "source": [
        "train_path = './drive/Shareddrives/CSE455 Final Project/balanced_formatted_data_2/train'\n",
        "test_path = './drive/Shareddrives/CSE455 Final Project/balanced_formatted_data_2/test'"
      ],
      "execution_count": null,
      "outputs": []
    },
    {
      "cell_type": "code",
      "metadata": {
        "id": "e00jEsj01Wrg"
      },
      "source": [
        "import glob\n",
        "training = glob.glob(train_path + \"/*/*.*\")\n",
        "test = glob.glob(test_path + \"/*/*.*\")\n",
        "random.shuffle(training)\n",
        "random.shuffle(test)"
      ],
      "execution_count": null,
      "outputs": []
    },
    {
      "cell_type": "code",
      "metadata": {
        "colab": {
          "base_uri": "https://localhost:8080/"
        },
        "id": "gZAJehhCAUw6",
        "outputId": "f6d9f501-3a83-4971-8627-d25f738676d0"
      },
      "source": [
        "print(str(len(training)))\n",
        "print(str(len(test)))\n"
      ],
      "execution_count": null,
      "outputs": [
        {
          "output_type": "stream",
          "text": [
            "5760\n",
            "1440\n"
          ],
          "name": "stdout"
        }
      ]
    },
    {
      "cell_type": "code",
      "metadata": {
        "id": "baEdGegPAlO7"
      },
      "source": [
        "training = training[:200]\n",
        "test = test[:50]"
      ],
      "execution_count": null,
      "outputs": []
    },
    {
      "cell_type": "code",
      "metadata": {
        "id": "KNG13Ugo2-hB"
      },
      "source": [
        "from shutil import copy\n",
        "for file in training:\n",
        "  name = os.path.split(file)[1]\n",
        "  person = os.path.split(os.path.split(file)[0])[1]\n",
        "  file_name = person + \"_\" + name\n",
        "  dest = './drive/Shareddrives/CSE455 Final Project/Human_Benchmark/train/' + file_name\n",
        "  copy(file, dest) \n"
      ],
      "execution_count": null,
      "outputs": []
    },
    {
      "cell_type": "code",
      "metadata": {
        "id": "U4wwAsA21RBh"
      },
      "source": [
        "for file in test:\n",
        "  name = os.path.split(file)[1]\n",
        "  person = os.path.split(os.path.split(file)[0])[1]\n",
        "  file_name = person + \"_\" + name\n",
        "  dest = './drive/Shareddrives/CSE455 Final Project/Human_Benchmark/test/' + file_name\n",
        "  copy(file, dest) "
      ],
      "execution_count": null,
      "outputs": []
    }
  ]
}